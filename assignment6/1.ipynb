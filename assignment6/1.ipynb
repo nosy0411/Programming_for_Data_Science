{
 "cells": [
  {
   "cell_type": "code",
   "execution_count": 1,
   "metadata": {},
   "outputs": [],
   "source": [
    "from getdata import dataset\n",
    "\n",
    "data1, target1 = dataset(\"airfoil.csv\")\n",
    "\n"
   ]
  },
  {
   "cell_type": "code",
   "execution_count": 2,
   "metadata": {},
   "outputs": [],
   "source": [
    "from sklearn.model_selection import train_test_split\n",
    "\n",
    "X_train, X_test, y_train, y_test = train_test_split(\n",
    "    data1, target1, test_size=0.2, random_state=0)"
   ]
  },
  {
   "cell_type": "code",
   "execution_count": 3,
   "metadata": {},
   "outputs": [
    {
     "name": "stdout",
     "output_type": "stream",
     "text": [
      "X_train: (1202, 5)\n",
      "y_train: (1202,)\n",
      "=============================\n",
      "X_test shape: (301, 5)\n",
      "y_test shape: (301,)\n"
     ]
    }
   ],
   "source": [
    "print(\"X_train:\", X_train.shape)\n",
    "print(\"y_train:\", y_train.shape)\n",
    "print(\"=============================\")\n",
    "print(\"X_test shape:\", X_test.shape)\n",
    "print(\"y_test shape:\", y_test.shape)"
   ]
  },
  {
   "cell_type": "code",
   "execution_count": 2,
   "metadata": {},
   "outputs": [
    {
     "ename": "NameError",
     "evalue": "name 'X_train' is not defined",
     "output_type": "error",
     "traceback": [
      "\u001b[1;31m---------------------------------------------------------------------------\u001b[0m",
      "\u001b[1;31mNameError\u001b[0m                                 Traceback (most recent call last)",
      "\u001b[1;32m<ipython-input-2-1691db6a57e1>\u001b[0m in \u001b[0;36m<module>\u001b[1;34m\u001b[0m\n\u001b[0;32m     11\u001b[0m     {'classifier': [RandomForestRegressor()],\n\u001b[0;32m     12\u001b[0m      \u001b[1;34m'preprocessing'\u001b[0m\u001b[1;33m:\u001b[0m \u001b[1;33m[\u001b[0m\u001b[1;32mNone\u001b[0m\u001b[1;33m]\u001b[0m\u001b[1;33m,\u001b[0m\u001b[1;33m\u001b[0m\u001b[1;33m\u001b[0m\u001b[0m\n\u001b[1;32m---> 13\u001b[1;33m      \u001b[1;34m'classifier__max_features'\u001b[0m\u001b[1;33m:\u001b[0m \u001b[1;33m[\u001b[0m\u001b[0mi\u001b[0m \u001b[1;32mfor\u001b[0m \u001b[0mi\u001b[0m \u001b[1;32min\u001b[0m \u001b[0mrange\u001b[0m\u001b[1;33m(\u001b[0m\u001b[1;36m2\u001b[0m\u001b[1;33m,\u001b[0m\u001b[0mX_train\u001b[0m\u001b[1;33m.\u001b[0m\u001b[0mshape\u001b[0m\u001b[1;33m[\u001b[0m\u001b[1;36m1\u001b[0m\u001b[1;33m]\u001b[0m\u001b[1;33m+\u001b[0m\u001b[1;36m1\u001b[0m\u001b[1;33m)\u001b[0m\u001b[1;33m]\u001b[0m\u001b[1;33m,\u001b[0m\u001b[1;33m\u001b[0m\u001b[1;33m\u001b[0m\u001b[0m\n\u001b[0m\u001b[0;32m     14\u001b[0m      \u001b[1;34m'classifier__n_estimators'\u001b[0m\u001b[1;33m:\u001b[0m \u001b[1;33m[\u001b[0m\u001b[0mi\u001b[0m \u001b[1;32mfor\u001b[0m \u001b[0mi\u001b[0m \u001b[1;32min\u001b[0m \u001b[0mrange\u001b[0m\u001b[1;33m(\u001b[0m\u001b[1;36m64\u001b[0m\u001b[1;33m,\u001b[0m\u001b[1;36m129\u001b[0m\u001b[1;33m,\u001b[0m\u001b[1;36m8\u001b[0m\u001b[1;33m)\u001b[0m\u001b[1;33m]\u001b[0m\u001b[1;33m,\u001b[0m\u001b[1;33m\u001b[0m\u001b[1;33m\u001b[0m\u001b[0m\n\u001b[0;32m     15\u001b[0m      \u001b[1;34m'classifier__max_depth'\u001b[0m\u001b[1;33m:\u001b[0m \u001b[1;33m[\u001b[0m\u001b[0mi\u001b[0m \u001b[1;32mfor\u001b[0m \u001b[0mi\u001b[0m \u001b[1;32min\u001b[0m \u001b[0mrange\u001b[0m\u001b[1;33m(\u001b[0m\u001b[1;36m2\u001b[0m\u001b[1;33m,\u001b[0m\u001b[1;36m11\u001b[0m\u001b[1;33m)\u001b[0m\u001b[1;33m]\u001b[0m\u001b[1;33m,\u001b[0m\u001b[1;33m\u001b[0m\u001b[1;33m\u001b[0m\u001b[0m\n",
      "\u001b[1;31mNameError\u001b[0m: name 'X_train' is not defined"
     ]
    }
   ],
   "source": [
    "from sklearn.pipeline import Pipeline\n",
    "from sklearn.ensemble import RandomForestRegressor\n",
    "from sklearn.model_selection import GridSearchCV, StratifiedKFold\n",
    "\n",
    "from sklearn.metrics import mean_squared_error\n",
    "from sklearn.metrics import r2_score\n",
    "\n",
    "pipe=Pipeline([('preprocessing', None), ('classifier',RandomForestRegressor())],  memory=\"cache_folder\")\n",
    "\n",
    "param_grid = [\n",
    "    {'classifier': [RandomForestRegressor()],\n",
    "     'preprocessing': [None], \n",
    "     'classifier__max_features': [i for i in range(2,X_train.shape[1]+1)],\n",
    "     'classifier__n_estimators': [i for i in range(64,129,8)],\n",
    "     'classifier__max_depth': [i for i in range(2,11)],\n",
    "     'classifier__min_samples_leaf': [i for i in range(2,11)],\n",
    "     'classifier__max_leaf_nodes': [None],\n",
    "     }]\n",
    "\n",
    "kfold = StratifiedKFold(n_splits=5, shuffle=True, random_state=0)\n",
    "grid = GridSearchCV(pipe, param_grid=param_grid, scoring='neg_mean_squared_error', cv=5, n_jobs=-1)\n",
    "# grid.fit(X_train, y_train)"
   ]
  },
  {
   "cell_type": "code",
   "execution_count": 3,
   "metadata": {},
   "outputs": [
    {
     "name": "stdout",
     "output_type": "stream",
     "text": "=====cadata.csv==========\nX_train: (16512, 8)\ny_train: (16512,)\nX_test shape: (4128, 8)\ny_test shape: (4128,)\n=============================\n"
    }
   ],
   "source": [
    "import csv\n",
    "import os\n",
    "from assignment6.getdata import dataset\n",
    "from sklearn.model_selection import train_test_split\n",
    "\n",
    "from sklearn.pipeline import Pipeline\n",
    "from sklearn.ensemble import RandomForestRegressor\n",
    "from sklearn.model_selection import GridSearchCV, StratifiedKFold\n",
    "\n",
    "from sklearn.metrics import mean_squared_error\n",
    "from sklearn.metrics import r2_score\n",
    "\n",
    "path = \"assignment6/dataset\"\n",
    "# print(os.listdir(path))\n",
    "# print(os.path.join(path,'*.csv'))\n",
    "\n",
    "for input_file in os.listdir(path):\n",
    "    data, target = dataset(input_file)\n",
    "    X_train, X_test, y_train, y_test = train_test_split(\n",
    "        data, target, test_size=0.2, random_state=0)\n",
    "    print(\"=====\"+input_file+\"==========\")\n",
    "    print(\"X_train:\", X_train.shape)\n",
    "    print(\"y_train:\", y_train.shape)\n",
    "    print(\"X_test shape:\", X_test.shape)\n",
    "    print(\"y_test shape:\", y_test.shape)\n",
    "    print(\"=============================\")\n",
    "    pipe=Pipeline([('preprocessing', None), ('classifier',RandomForestRegressor())],  memory=\"cache_folder\")\n",
    "\n",
    "    param_grid = [\n",
    "        {'classifier': [RandomForestRegressor()],\n",
    "        'preprocessing': [None], \n",
    "        'classifier__max_features': [i for i in range(2,X_train.shape[1]+1)],\n",
    "        'classifier__n_estimators': [i for i in range(64,129)],\n",
    "        'classifier__max_depth': [15],\n",
    "        'classifier__min_samples_leaf': [2],\n",
    "        'classifier__max_leaf_nodes': [None],\n",
    "        }]\n",
    "\n",
    "    kfold = StratifiedKFold(n_splits=5, shuffle=True, random_state=0)\n",
    "    grid = GridSearchCV(pipe, param_grid=param_grid, scoring='neg_mean_squared_error', cv=5, n_jobs=-1)\n",
    "    grid.fit(X_train, y_train)\n",
    "\n",
    "    print(\"Best params:\\n{}\\n\".format(grid.best_params_))\n",
    "    print(\"Best cross-validation score(root mean squared error): {:.2f}\".format(((grid.best_score_)*(-1))**0.5))\n",
    "    print(\"Test-set score(root mean squared error): {:.2f}\".format((grid.score(X_test, y_test)*(-1))**0.5))\n",
    "    print(\"\\n======================================================================================\")\n",
    "    print(\"======================================================================================\\n\\n\")"
   ]
  },
  {
   "cell_type": "code",
   "execution_count": null,
   "metadata": {},
   "outputs": [],
   "source": []
  }
 ],
 "metadata": {
  "kernelspec": {
   "display_name": "Python 3",
   "language": "python",
   "name": "python3"
  },
  "language_info": {
   "codemirror_mode": {
    "name": "ipython",
    "version": 3
   },
   "file_extension": ".py",
   "mimetype": "text/x-python",
   "name": "python",
   "nbconvert_exporter": "python",
   "pygments_lexer": "ipython3",
   "version": "3.6.5"
  }
 },
 "nbformat": 4,
 "nbformat_minor": 4
}