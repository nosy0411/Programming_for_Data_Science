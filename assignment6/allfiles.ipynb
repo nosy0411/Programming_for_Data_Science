{
 "nbformat": 4,
 "nbformat_minor": 2,
 "metadata": {
  "language_info": {
   "name": "python",
   "codemirror_mode": {
    "name": "ipython",
    "version": 3
   },
   "version": "3.6.8"
  },
  "orig_nbformat": 2,
  "file_extension": ".py",
  "mimetype": "text/x-python",
  "name": "python",
  "npconvert_exporter": "python",
  "pygments_lexer": "ipython3",
  "version": 3
 },
 "cells": [
  {
   "cell_type": "code",
   "execution_count": 4,
   "metadata": {},
   "outputs": [
    {
     "name": "stdout",
     "output_type": "stream",
     "text": "=====airfoil.csv==========\nX_train: (1202, 5)\ny_train: (1202,)\nX_test shape: (301, 5)\ny_test shape: (301,)\n=============================\n=====appliancesenergy.csv==========\nX_train: (15788, 25)\ny_train: (15788,)\nX_test shape: (3947, 25)\ny_test shape: (3947,)\n=============================\n=====bikesharing.csv==========\nX_train: (13903, 14)\ny_train: (13903,)\nX_test shape: (3476, 14)\ny_test shape: (3476,)\n=============================\n=====cadata.csv==========\nX_train: (16512, 8)\ny_train: (16512,)\nX_test shape: (4128, 8)\ny_test shape: (4128,)\n=============================\n=====concretecs.csv==========\nX_train: (824, 8)\ny_train: (824,)\nX_test shape: (206, 8)\ny_test shape: (206,)\n=============================\n=====cpusmall.csv==========\nX_train: (6553, 12)\ny_train: (6553,)\nX_test shape: (1639, 12)\ny_test shape: (1639,)\n=============================\n=====mg.csv==========\nX_train: (1108, 6)\ny_train: (1108,)\nX_test shape: (277, 6)\ny_test shape: (277,)\n=============================\n=====skillcraft.csv==========\nX_train: (2670, 18)\ny_train: (2670,)\nX_test shape: (668, 18)\ny_test shape: (668,)\n=============================\n=====spacega.csv==========\nX_train: (2485, 6)\ny_train: (2485,)\nX_test shape: (622, 6)\ny_test shape: (622,)\n=============================\n=====telemonitoring.csv==========\nX_train: (4700, 16)\ny_train: (4700,)\nX_test shape: (1175, 16)\ny_test shape: (1175,)\n=============================\n=====winequality-red.csv==========\nX_train: (1279, 11)\ny_train: (1279,)\nX_test shape: (320, 11)\ny_test shape: (320,)\n=============================\n=====winequality-white.csv==========\nX_train: (3918, 11)\ny_train: (3918,)\nX_test shape: (980, 11)\ny_test shape: (980,)\n=============================\n"
    }
   ],
   "source": [
    "import csv\n",
    "import os\n",
    "from assignment6.getdata import dataset\n",
    "from sklearn.model_selection import train_test_split\n",
    "\n",
    "path = \"assignment6\\\\dataset\"\n",
    "# print(os.listdir(path))\n",
    "# print(os.path.join(path,'*.csv'))\n",
    "\n",
    "for input_file in os.listdir(path):\n",
    "    data, target = dataset(input_file)\n",
    "    X_train, X_test, y_train, y_test = train_test_split(\n",
    "        data, target, test_size=0.2, random_state=0)\n",
    "    print(\"=====\"+input_file+\"==========\")\n",
    "    print(\"X_train:\", X_train.shape)\n",
    "    print(\"y_train:\", y_train.shape)\n",
    "    print(\"X_test shape:\", X_test.shape)\n",
    "    print(\"y_test shape:\", y_test.shape)\n",
    "    print(\"=============================\")"
   ]
  },
  {
   "cell_type": "code",
   "execution_count": null,
   "metadata": {},
   "outputs": [],
   "source": []
  }
 ]
}